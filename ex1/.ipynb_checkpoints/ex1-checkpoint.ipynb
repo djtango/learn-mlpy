{
 "cells": [
  {
   "cell_type": "code",
   "execution_count": 2,
   "metadata": {
    "collapsed": false
   },
   "outputs": [
    {
     "name": "stderr",
     "output_type": "stream",
     "text": [
      "/usr/lib64/python2.7/site-packages/matplotlib/font_manager.py:273: UserWarning: Matplotlib is building the font cache using fc-list. This may take a moment.\n",
      "  warnings.warn('Matplotlib is building the font cache using fc-list. This may take a moment.')\n"
     ]
    }
   ],
   "source": [
    "import numpy as np\n",
    "import pandas as pd\n",
    "import matplotlib.pyplot as plt\n",
    "%matplotlib inline\n"
   ]
  },
  {
   "cell_type": "code",
   "execution_count": 3,
   "metadata": {
    "collapsed": false
   },
   "outputs": [
    {
     "data": {
      "text/html": [
       "<div>\n",
       "<table border=\"1\" class=\"dataframe\">\n",
       "  <thead>\n",
       "    <tr style=\"text-align: right;\">\n",
       "      <th></th>\n",
       "      <th>Population</th>\n",
       "      <th>Profit</th>\n",
       "    </tr>\n",
       "  </thead>\n",
       "  <tbody>\n",
       "    <tr>\n",
       "      <th>0</th>\n",
       "      <td>6.1101</td>\n",
       "      <td>17.5920</td>\n",
       "    </tr>\n",
       "    <tr>\n",
       "      <th>1</th>\n",
       "      <td>5.5277</td>\n",
       "      <td>9.1302</td>\n",
       "    </tr>\n",
       "    <tr>\n",
       "      <th>2</th>\n",
       "      <td>8.5186</td>\n",
       "      <td>13.6620</td>\n",
       "    </tr>\n",
       "    <tr>\n",
       "      <th>3</th>\n",
       "      <td>7.0032</td>\n",
       "      <td>11.8540</td>\n",
       "    </tr>\n",
       "    <tr>\n",
       "      <th>4</th>\n",
       "      <td>5.8598</td>\n",
       "      <td>6.8233</td>\n",
       "    </tr>\n",
       "  </tbody>\n",
       "</table>\n",
       "</div>"
      ],
      "text/plain": [
       "   Population   Profit\n",
       "0      6.1101  17.5920\n",
       "1      5.5277   9.1302\n",
       "2      8.5186  13.6620\n",
       "3      7.0032  11.8540\n",
       "4      5.8598   6.8233"
      ]
     },
     "execution_count": 3,
     "metadata": {},
     "output_type": "execute_result"
    }
   ],
   "source": [
    "import os\n",
    "path = os.getcwd() + '/data/ex1data1.txt'\n",
    "data = pd.read_csv(path, header=None, names=['Population', 'Profit'])\n",
    "data.head()"
   ]
  },
  {
   "cell_type": "code",
   "execution_count": 4,
   "metadata": {
    "collapsed": false,
    "scrolled": true
   },
   "outputs": [
    {
     "data": {
      "text/html": [
       "<div>\n",
       "<table border=\"1\" class=\"dataframe\">\n",
       "  <thead>\n",
       "    <tr style=\"text-align: right;\">\n",
       "      <th></th>\n",
       "      <th>Population</th>\n",
       "      <th>Profit</th>\n",
       "    </tr>\n",
       "  </thead>\n",
       "  <tbody>\n",
       "    <tr>\n",
       "      <th>count</th>\n",
       "      <td>97.000000</td>\n",
       "      <td>97.000000</td>\n",
       "    </tr>\n",
       "    <tr>\n",
       "      <th>mean</th>\n",
       "      <td>8.159800</td>\n",
       "      <td>5.839135</td>\n",
       "    </tr>\n",
       "    <tr>\n",
       "      <th>std</th>\n",
       "      <td>3.869884</td>\n",
       "      <td>5.510262</td>\n",
       "    </tr>\n",
       "    <tr>\n",
       "      <th>min</th>\n",
       "      <td>5.026900</td>\n",
       "      <td>-2.680700</td>\n",
       "    </tr>\n",
       "    <tr>\n",
       "      <th>25%</th>\n",
       "      <td>5.707700</td>\n",
       "      <td>1.986900</td>\n",
       "    </tr>\n",
       "    <tr>\n",
       "      <th>50%</th>\n",
       "      <td>6.589400</td>\n",
       "      <td>4.562300</td>\n",
       "    </tr>\n",
       "    <tr>\n",
       "      <th>75%</th>\n",
       "      <td>8.578100</td>\n",
       "      <td>7.046700</td>\n",
       "    </tr>\n",
       "    <tr>\n",
       "      <th>max</th>\n",
       "      <td>22.203000</td>\n",
       "      <td>24.147000</td>\n",
       "    </tr>\n",
       "  </tbody>\n",
       "</table>\n",
       "</div>"
      ],
      "text/plain": [
       "       Population     Profit\n",
       "count   97.000000  97.000000\n",
       "mean     8.159800   5.839135\n",
       "std      3.869884   5.510262\n",
       "min      5.026900  -2.680700\n",
       "25%      5.707700   1.986900\n",
       "50%      6.589400   4.562300\n",
       "75%      8.578100   7.046700\n",
       "max     22.203000  24.147000"
      ]
     },
     "execution_count": 4,
     "metadata": {},
     "output_type": "execute_result"
    }
   ],
   "source": [
    "data.describe()"
   ]
  },
  {
   "cell_type": "code",
   "execution_count": 6,
   "metadata": {
    "collapsed": false,
    "scrolled": true
   },
   "outputs": [
    {
     "data": {
      "text/plain": [
       "<matplotlib.axes._subplots.AxesSubplot at 0x7efde653aed0>"
      ]
     },
     "execution_count": 6,
     "metadata": {},
     "output_type": "execute_result"
    },
    {
     "data": {
      "image/png": "[encoded data removed]",
      "text/plain": [
       "<matplotlib.figure.Figure at 0x7efde680b9d0>"
      ]
     },
     "metadata": {},
     "output_type": "display_data"
    }
   ],
   "source": [
    "data.plot(kind='scatter', x='Population', y='Profit', figsize=(12,8))"
   ]
  },
  {
   "cell_type": "code",
   "execution_count": 7,
   "metadata": {
    "collapsed": true
   },
   "outputs": [],
   "source": [
    "data.insert(0, 'Ones', 1)"
   ]
  },
  {
   "cell_type": "code",
   "execution_count": 18,
   "metadata": {
    "collapsed": false
   },
   "outputs": [],
   "source": [
    "cols = data.shape[1]\n",
    "X = data.iloc[:, 0:cols-1] # X: all rows, cols 0-2 \n",
    "y = data.iloc[:, cols-1:cols] #y: all rows, col 2 : not inclusive of terminus"
   ]
  },
  {
   "cell_type": "code",
   "execution_count": 19,
   "metadata": {
    "collapsed": false
   },
   "outputs": [
    {
     "data": {
      "text/html": [
       "<div>\n",
       "<table border=\"1\" class=\"dataframe\">\n",
       "  <thead>\n",
       "    <tr style=\"text-align: right;\">\n",
       "      <th></th>\n",
       "      <th>Ones</th>\n",
       "      <th>Population</th>\n",
       "    </tr>\n",
       "  </thead>\n",
       "  <tbody>\n",
       "    <tr>\n",
       "      <th>0</th>\n",
       "      <td>1</td>\n",
       "      <td>6.1101</td>\n",
       "    </tr>\n",
       "    <tr>\n",
       "      <th>1</th>\n",
       "      <td>1</td>\n",
       "      <td>5.5277</td>\n",
       "    </tr>\n",
       "    <tr>\n",
       "      <th>2</th>\n",
       "      <td>1</td>\n",
       "      <td>8.5186</td>\n",
       "    </tr>\n",
       "    <tr>\n",
       "      <th>3</th>\n",
       "      <td>1</td>\n",
       "      <td>7.0032</td>\n",
       "    </tr>\n",
       "    <tr>\n",
       "      <th>4</th>\n",
       "      <td>1</td>\n",
       "      <td>5.8598</td>\n",
       "    </tr>\n",
       "  </tbody>\n",
       "</table>\n",
       "</div>"
      ],
      "text/plain": [
       "   Ones  Population\n",
       "0     1      6.1101\n",
       "1     1      5.5277\n",
       "2     1      8.5186\n",
       "3     1      7.0032\n",
       "4     1      5.8598"
      ]
     },
     "execution_count": 19,
     "metadata": {},
     "output_type": "execute_result"
    }
   ],
   "source": [
    "X.head()"
   ]
  },
  {
   "cell_type": "code",
   "execution_count": 20,
   "metadata": {
    "collapsed": false
   },
   "outputs": [
    {
     "data": {
      "text/html": [
       "<div>\n",
       "<table border=\"1\" class=\"dataframe\">\n",
       "  <thead>\n",
       "    <tr style=\"text-align: right;\">\n",
       "      <th></th>\n",
       "      <th>Profit</th>\n",
       "    </tr>\n",
       "  </thead>\n",
       "  <tbody>\n",
       "    <tr>\n",
       "      <th>0</th>\n",
       "      <td>17.5920</td>\n",
       "    </tr>\n",
       "    <tr>\n",
       "      <th>1</th>\n",
       "      <td>9.1302</td>\n",
       "    </tr>\n",
       "    <tr>\n",
       "      <th>2</th>\n",
       "      <td>13.6620</td>\n",
       "    </tr>\n",
       "    <tr>\n",
       "      <th>3</th>\n",
       "      <td>11.8540</td>\n",
       "    </tr>\n",
       "    <tr>\n",
       "      <th>4</th>\n",
       "      <td>6.8233</td>\n",
       "    </tr>\n",
       "  </tbody>\n",
       "</table>\n",
       "</div>"
      ],
      "text/plain": [
       "    Profit\n",
       "0  17.5920\n",
       "1   9.1302\n",
       "2  13.6620\n",
       "3  11.8540\n",
       "4   6.8233"
      ]
     },
     "execution_count": 20,
     "metadata": {},
     "output_type": "execute_result"
    }
   ],
   "source": [
    "y.head()"
   ]
  },
  {
   "cell_type": "code",
   "execution_count": 21,
   "metadata": {
    "collapsed": false
   },
   "outputs": [],
   "source": [
    "X = np.matrix(X.values)\n",
    "y = np.matrix(y.values)\n",
    "theta = np.matrix(np.array([0,0]))"
   ]
  },
  {
   "cell_type": "code",
   "execution_count": 23,
   "metadata": {
    "collapsed": false
   },
   "outputs": [
    {
     "data": {
      "text/plain": [
       "matrix([[  1.    ,   6.1101],\n",
       "        [  1.    ,   5.5277],\n",
       "        [  1.    ,   8.5186],\n",
       "        [  1.    ,   7.0032],\n",
       "        [  1.    ,   5.8598],\n",
       "        [  1.    ,   8.3829],\n",
       "        [  1.    ,   7.4764],\n",
       "        [  1.    ,   8.5781],\n",
       "        [  1.    ,   6.4862],\n",
       "        [  1.    ,   5.0546],\n",
       "        [  1.    ,   5.7107],\n",
       "        [  1.    ,  14.164 ],\n",
       "        [  1.    ,   5.734 ],\n",
       "        [  1.    ,   8.4084],\n",
       "        [  1.    ,   5.6407],\n",
       "        [  1.    ,   5.3794],\n",
       "        [  1.    ,   6.3654],\n",
       "        [  1.    ,   5.1301],\n",
       "        [  1.    ,   6.4296],\n",
       "        [  1.    ,   7.0708],\n",
       "        [  1.    ,   6.1891],\n",
       "        [  1.    ,  20.27  ],\n",
       "        [  1.    ,   5.4901],\n",
       "        [  1.    ,   6.3261],\n",
       "        [  1.    ,   5.5649],\n",
       "        [  1.    ,  18.945 ],\n",
       "        [  1.    ,  12.828 ],\n",
       "        [  1.    ,  10.957 ],\n",
       "        [  1.    ,  13.176 ],\n",
       "        [  1.    ,  22.203 ],\n",
       "        [  1.    ,   5.2524],\n",
       "        [  1.    ,   6.5894],\n",
       "        [  1.    ,   9.2482],\n",
       "        [  1.    ,   5.8918],\n",
       "        [  1.    ,   8.2111],\n",
       "        [  1.    ,   7.9334],\n",
       "        [  1.    ,   8.0959],\n",
       "        [  1.    ,   5.6063],\n",
       "        [  1.    ,  12.836 ],\n",
       "        [  1.    ,   6.3534],\n",
       "        [  1.    ,   5.4069],\n",
       "        [  1.    ,   6.8825],\n",
       "        [  1.    ,  11.708 ],\n",
       "        [  1.    ,   5.7737],\n",
       "        [  1.    ,   7.8247],\n",
       "        [  1.    ,   7.0931],\n",
       "        [  1.    ,   5.0702],\n",
       "        [  1.    ,   5.8014],\n",
       "        [  1.    ,  11.7   ],\n",
       "        [  1.    ,   5.5416],\n",
       "        [  1.    ,   7.5402],\n",
       "        [  1.    ,   5.3077],\n",
       "        [  1.    ,   7.4239],\n",
       "        [  1.    ,   7.6031],\n",
       "        [  1.    ,   6.3328],\n",
       "        [  1.    ,   6.3589],\n",
       "        [  1.    ,   6.2742],\n",
       "        [  1.    ,   5.6397],\n",
       "        [  1.    ,   9.3102],\n",
       "        [  1.    ,   9.4536],\n",
       "        [  1.    ,   8.8254],\n",
       "        [  1.    ,   5.1793],\n",
       "        [  1.    ,  21.279 ],\n",
       "        [  1.    ,  14.908 ],\n",
       "        [  1.    ,  18.959 ],\n",
       "        [  1.    ,   7.2182],\n",
       "        [  1.    ,   8.2951],\n",
       "        [  1.    ,  10.236 ],\n",
       "        [  1.    ,   5.4994],\n",
       "        [  1.    ,  20.341 ],\n",
       "        [  1.    ,  10.136 ],\n",
       "        [  1.    ,   7.3345],\n",
       "        [  1.    ,   6.0062],\n",
       "        [  1.    ,   7.2259],\n",
       "        [  1.    ,   5.0269],\n",
       "        [  1.    ,   6.5479],\n",
       "        [  1.    ,   7.5386],\n",
       "        [  1.    ,   5.0365],\n",
       "        [  1.    ,  10.274 ],\n",
       "        [  1.    ,   5.1077],\n",
       "        [  1.    ,   5.7292],\n",
       "        [  1.    ,   5.1884],\n",
       "        [  1.    ,   6.3557],\n",
       "        [  1.    ,   9.7687],\n",
       "        [  1.    ,   6.5159],\n",
       "        [  1.    ,   8.5172],\n",
       "        [  1.    ,   9.1802],\n",
       "        [  1.    ,   6.002 ],\n",
       "        [  1.    ,   5.5204],\n",
       "        [  1.    ,   5.0594],\n",
       "        [  1.    ,   5.7077],\n",
       "        [  1.    ,   7.6366],\n",
       "        [  1.    ,   5.8707],\n",
       "        [  1.    ,   5.3054],\n",
       "        [  1.    ,   8.2934],\n",
       "        [  1.    ,  13.394 ],\n",
       "        [  1.    ,   5.4369]])"
      ]
     },
     "execution_count": 23,
     "metadata": {},
     "output_type": "execute_result"
    }
   ],
   "source": [
    "X\n"
   ]
  },
  {
   "cell_type": "code",
   "execution_count": 24,
   "metadata": {
    "collapsed": false
   },
   "outputs": [
    {
     "data": {
      "text/plain": [
       "matrix([[  1.    ,   6.1101],\n",
       "        [  1.    ,   5.5277],\n",
       "        [  1.    ,   8.5186],\n",
       "        [  1.    ,   7.0032],\n",
       "        [  1.    ,   5.8598],\n",
       "        [  1.    ,   8.3829],\n",
       "        [  1.    ,   7.4764],\n",
       "        [  1.    ,   8.5781],\n",
       "        [  1.    ,   6.4862],\n",
       "        [  1.    ,   5.0546],\n",
       "        [  1.    ,   5.7107],\n",
       "        [  1.    ,  14.164 ],\n",
       "        [  1.    ,   5.734 ],\n",
       "        [  1.    ,   8.4084],\n",
       "        [  1.    ,   5.6407],\n",
       "        [  1.    ,   5.3794],\n",
       "        [  1.    ,   6.3654],\n",
       "        [  1.    ,   5.1301],\n",
       "        [  1.    ,   6.4296],\n",
       "        [  1.    ,   7.0708],\n",
       "        [  1.    ,   6.1891],\n",
       "        [  1.    ,  20.27  ],\n",
       "        [  1.    ,   5.4901],\n",
       "        [  1.    ,   6.3261],\n",
       "        [  1.    ,   5.5649],\n",
       "        [  1.    ,  18.945 ],\n",
       "        [  1.    ,  12.828 ],\n",
       "        [  1.    ,  10.957 ],\n",
       "        [  1.    ,  13.176 ],\n",
       "        [  1.    ,  22.203 ],\n",
       "        [  1.    ,   5.2524],\n",
       "        [  1.    ,   6.5894],\n",
       "        [  1.    ,   9.2482],\n",
       "        [  1.    ,   5.8918],\n",
       "        [  1.    ,   8.2111],\n",
       "        [  1.    ,   7.9334],\n",
       "        [  1.    ,   8.0959],\n",
       "        [  1.    ,   5.6063],\n",
       "        [  1.    ,  12.836 ],\n",
       "        [  1.    ,   6.3534],\n",
       "        [  1.    ,   5.4069],\n",
       "        [  1.    ,   6.8825],\n",
       "        [  1.    ,  11.708 ],\n",
       "        [  1.    ,   5.7737],\n",
       "        [  1.    ,   7.8247],\n",
       "        [  1.    ,   7.0931],\n",
       "        [  1.    ,   5.0702],\n",
       "        [  1.    ,   5.8014],\n",
       "        [  1.    ,  11.7   ],\n",
       "        [  1.    ,   5.5416],\n",
       "        [  1.    ,   7.5402],\n",
       "        [  1.    ,   5.3077],\n",
       "        [  1.    ,   7.4239],\n",
       "        [  1.    ,   7.6031],\n",
       "        [  1.    ,   6.3328],\n",
       "        [  1.    ,   6.3589],\n",
       "        [  1.    ,   6.2742],\n",
       "        [  1.    ,   5.6397],\n",
       "        [  1.    ,   9.3102],\n",
       "        [  1.    ,   9.4536],\n",
       "        [  1.    ,   8.8254],\n",
       "        [  1.    ,   5.1793],\n",
       "        [  1.    ,  21.279 ],\n",
       "        [  1.    ,  14.908 ],\n",
       "        [  1.    ,  18.959 ],\n",
       "        [  1.    ,   7.2182],\n",
       "        [  1.    ,   8.2951],\n",
       "        [  1.    ,  10.236 ],\n",
       "        [  1.    ,   5.4994],\n",
       "        [  1.    ,  20.341 ],\n",
       "        [  1.    ,  10.136 ],\n",
       "        [  1.    ,   7.3345],\n",
       "        [  1.    ,   6.0062],\n",
       "        [  1.    ,   7.2259],\n",
       "        [  1.    ,   5.0269],\n",
       "        [  1.    ,   6.5479],\n",
       "        [  1.    ,   7.5386],\n",
       "        [  1.    ,   5.0365],\n",
       "        [  1.    ,  10.274 ],\n",
       "        [  1.    ,   5.1077],\n",
       "        [  1.    ,   5.7292],\n",
       "        [  1.    ,   5.1884],\n",
       "        [  1.    ,   6.3557],\n",
       "        [  1.    ,   9.7687],\n",
       "        [  1.    ,   6.5159],\n",
       "        [  1.    ,   8.5172],\n",
       "        [  1.    ,   9.1802],\n",
       "        [  1.    ,   6.002 ],\n",
       "        [  1.    ,   5.5204],\n",
       "        [  1.    ,   5.0594],\n",
       "        [  1.    ,   5.7077],\n",
       "        [  1.    ,   7.6366],\n",
       "        [  1.    ,   5.8707],\n",
       "        [  1.    ,   5.3054],\n",
       "        [  1.    ,   8.2934],\n",
       "        [  1.    ,  13.394 ],\n",
       "        [  1.    ,   5.4369]])"
      ]
     },
     "execution_count": 24,
     "metadata": {},
     "output_type": "execute_result"
    }
   ],
   "source": [
    "X"
   ]
  },
  {
   "cell_type": "code",
   "execution_count": 25,
   "metadata": {
    "collapsed": false
   },
   "outputs": [
    {
     "data": {
      "text/plain": [
       "matrix([[ 17.592  ],\n",
       "        [  9.1302 ],\n",
       "        [ 13.662  ],\n",
       "        [ 11.854  ],\n",
       "        [  6.8233 ],\n",
       "        [ 11.886  ],\n",
       "        [  4.3483 ],\n",
       "        [ 12.     ],\n",
       "        [  6.5987 ],\n",
       "        [  3.8166 ],\n",
       "        [  3.2522 ],\n",
       "        [ 15.505  ],\n",
       "        [  3.1551 ],\n",
       "        [  7.2258 ],\n",
       "        [  0.71618],\n",
       "        [  3.5129 ],\n",
       "        [  5.3048 ],\n",
       "        [  0.56077],\n",
       "        [  3.6518 ],\n",
       "        [  5.3893 ],\n",
       "        [  3.1386 ],\n",
       "        [ 21.767  ],\n",
       "        [  4.263  ],\n",
       "        [  5.1875 ],\n",
       "        [  3.0825 ],\n",
       "        [ 22.638  ],\n",
       "        [ 13.501  ],\n",
       "        [  7.0467 ],\n",
       "        [ 14.692  ],\n",
       "        [ 24.147  ],\n",
       "        [ -1.22   ],\n",
       "        [  5.9966 ],\n",
       "        [ 12.134  ],\n",
       "        [  1.8495 ],\n",
       "        [  6.5426 ],\n",
       "        [  4.5623 ],\n",
       "        [  4.1164 ],\n",
       "        [  3.3928 ],\n",
       "        [ 10.117  ],\n",
       "        [  5.4974 ],\n",
       "        [  0.55657],\n",
       "        [  3.9115 ],\n",
       "        [  5.3854 ],\n",
       "        [  2.4406 ],\n",
       "        [  6.7318 ],\n",
       "        [  1.0463 ],\n",
       "        [  5.1337 ],\n",
       "        [  1.844  ],\n",
       "        [  8.0043 ],\n",
       "        [  1.0179 ],\n",
       "        [  6.7504 ],\n",
       "        [  1.8396 ],\n",
       "        [  4.2885 ],\n",
       "        [  4.9981 ],\n",
       "        [  1.4233 ],\n",
       "        [ -1.4211 ],\n",
       "        [  2.4756 ],\n",
       "        [  4.6042 ],\n",
       "        [  3.9624 ],\n",
       "        [  5.4141 ],\n",
       "        [  5.1694 ],\n",
       "        [ -0.74279],\n",
       "        [ 17.929  ],\n",
       "        [ 12.054  ],\n",
       "        [ 17.054  ],\n",
       "        [  4.8852 ],\n",
       "        [  5.7442 ],\n",
       "        [  7.7754 ],\n",
       "        [  1.0173 ],\n",
       "        [ 20.992  ],\n",
       "        [  6.6799 ],\n",
       "        [  4.0259 ],\n",
       "        [  1.2784 ],\n",
       "        [  3.3411 ],\n",
       "        [ -2.6807 ],\n",
       "        [  0.29678],\n",
       "        [  3.8845 ],\n",
       "        [  5.7014 ],\n",
       "        [  6.7526 ],\n",
       "        [  2.0576 ],\n",
       "        [  0.47953],\n",
       "        [  0.20421],\n",
       "        [  0.67861],\n",
       "        [  7.5435 ],\n",
       "        [  5.3436 ],\n",
       "        [  4.2415 ],\n",
       "        [  6.7981 ],\n",
       "        [  0.92695],\n",
       "        [  0.152  ],\n",
       "        [  2.8214 ],\n",
       "        [  1.8451 ],\n",
       "        [  4.2959 ],\n",
       "        [  7.2029 ],\n",
       "        [  1.9869 ],\n",
       "        [  0.14454],\n",
       "        [  9.0551 ],\n",
       "        [  0.61705]])"
      ]
     },
     "execution_count": 25,
     "metadata": {},
     "output_type": "execute_result"
    }
   ],
   "source": [
    "y"
   ]
  },
  {
   "cell_type": "code",
   "execution_count": 26,
   "metadata": {
    "collapsed": false
   },
   "outputs": [
    {
     "data": {
      "text/plain": [
       "matrix([[0, 0]])"
      ]
     },
     "execution_count": 26,
     "metadata": {},
     "output_type": "execute_result"
    }
   ],
   "source": [
    "theta"
   ]
  },
  {
   "cell_type": "code",
   "execution_count": null,
   "metadata": {
    "collapsed": true
   },
   "outputs": [],
   "source": []
  }
 ],
 "metadata": {
  "kernelspec": {
   "display_name": "Python 2",
   "language": "python",
   "name": "python2"
  },
  "language_info": {
   "codemirror_mode": {
    "name": "ipython",
    "version": 2
   },
   "file_extension": ".py",
   "mimetype": "text/x-python",
   "name": "python",
   "nbconvert_exporter": "python",
   "pygments_lexer": "ipython2",
   "version": "2.7.12"
  }
 },
 "nbformat": 4,
 "nbformat_minor": 1
}
